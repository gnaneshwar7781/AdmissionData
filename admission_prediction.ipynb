{
  "cells": [
    {
      "cell_type": "markdown",
      "metadata": {
        "id": "view-in-github",
        "colab_type": "text"
      },
      "source": [
        "<a href=\"https://colab.research.google.com/github/gnaneshwar7781/AdmissionData/blob/main/admission_prediction.ipynb\" target=\"_parent\"><img src=\"https://colab.research.google.com/assets/colab-badge.svg\" alt=\"Open In Colab\"/></a>"
      ]
    },
    {
      "cell_type": "code",
      "execution_count": 1,
      "id": "1982f026",
      "metadata": {
        "_cell_guid": "b1076dfc-b9ad-4769-8c92-a6c4dae69d19",
        "_uuid": "8f2839f25d086af736a60e9eeb907d3b93b6e0e5",
        "execution": {
          "iopub.execute_input": "2022-12-16T18:04:13.625880Z",
          "iopub.status.busy": "2022-12-16T18:04:13.625212Z",
          "iopub.status.idle": "2022-12-16T18:04:13.650379Z",
          "shell.execute_reply": "2022-12-16T18:04:13.649004Z"
        },
        "papermill": {
          "duration": 0.035068,
          "end_time": "2022-12-16T18:04:13.652970",
          "exception": false,
          "start_time": "2022-12-16T18:04:13.617902",
          "status": "completed"
        },
        "tags": [],
        "id": "1982f026"
      },
      "outputs": [],
      "source": [
        "import numpy as np \n",
        "import pandas as pd"
      ]
    },
    {
      "cell_type": "markdown",
      "id": "bf30a5a8",
      "metadata": {
        "papermill": {
          "duration": 0.003826,
          "end_time": "2022-12-16T18:04:13.661148",
          "exception": false,
          "start_time": "2022-12-16T18:04:13.657322",
          "status": "completed"
        },
        "tags": [],
        "id": "bf30a5a8"
      },
      "source": [
        "# Package Import"
      ]
    },
    {
      "cell_type": "code",
      "execution_count": 2,
      "id": "5b37650c",
      "metadata": {
        "execution": {
          "iopub.execute_input": "2022-12-16T18:04:13.672529Z",
          "iopub.status.busy": "2022-12-16T18:04:13.672015Z",
          "iopub.status.idle": "2022-12-16T18:04:14.972546Z",
          "shell.execute_reply": "2022-12-16T18:04:14.971532Z"
        },
        "papermill": {
          "duration": 1.309092,
          "end_time": "2022-12-16T18:04:14.975345",
          "exception": false,
          "start_time": "2022-12-16T18:04:13.666253",
          "status": "completed"
        },
        "tags": [],
        "id": "5b37650c"
      },
      "outputs": [],
      "source": [
        "from sklearn.model_selection import train_test_split\n",
        "from sklearn.metrics import r2_score,mean_absolute_error,mean_squared_error"
      ]
    },
    {
      "cell_type": "markdown",
      "id": "023362a8",
      "metadata": {
        "papermill": {
          "duration": 0.003834,
          "end_time": "2022-12-16T18:04:14.983515",
          "exception": false,
          "start_time": "2022-12-16T18:04:14.979681",
          "status": "completed"
        },
        "tags": [],
        "id": "023362a8"
      },
      "source": [
        "# Data Import"
      ]
    },
    {
      "cell_type": "code",
      "execution_count": 3,
      "id": "8bb68e58",
      "metadata": {
        "execution": {
          "iopub.execute_input": "2022-12-16T18:04:14.995278Z",
          "iopub.status.busy": "2022-12-16T18:04:14.993906Z",
          "iopub.status.idle": "2022-12-16T18:04:15.050171Z",
          "shell.execute_reply": "2022-12-16T18:04:15.048986Z"
        },
        "papermill": {
          "duration": 0.064775,
          "end_time": "2022-12-16T18:04:15.052927",
          "exception": false,
          "start_time": "2022-12-16T18:04:14.988152",
          "status": "completed"
        },
        "tags": [],
        "colab": {
          "base_uri": "https://localhost:8080/",
          "height": 424
        },
        "id": "8bb68e58",
        "outputId": "fbea12b7-76b6-4474-eb84-f763936b42e6"
      },
      "outputs": [
        {
          "output_type": "execute_result",
          "data": {
            "text/plain": [
              "     Serial No.  GRE Score  TOEFL Score  University Rating  SOP  LOR   CGPA  \\\n",
              "0             1        337          118                  4  4.5   4.5  9.65   \n",
              "1             2        324          107                  4  4.0   4.5  8.87   \n",
              "2             3        316          104                  3  3.0   3.5  8.00   \n",
              "3             4        322          110                  3  3.5   2.5  8.67   \n",
              "4             5        314          103                  2  2.0   3.0  8.21   \n",
              "..          ...        ...          ...                ...  ...   ...   ...   \n",
              "395         396        324          110                  3  3.5   3.5  9.04   \n",
              "396         397        325          107                  3  3.0   3.5  9.11   \n",
              "397         398        330          116                  4  5.0   4.5  9.45   \n",
              "398         399        312          103                  3  3.5   4.0  8.78   \n",
              "399         400        333          117                  4  5.0   4.0  9.66   \n",
              "\n",
              "     Research  Chance of Admit   \n",
              "0           1              0.92  \n",
              "1           1              0.76  \n",
              "2           1              0.72  \n",
              "3           1              0.80  \n",
              "4           0              0.65  \n",
              "..        ...               ...  \n",
              "395         1              0.82  \n",
              "396         1              0.84  \n",
              "397         1              0.91  \n",
              "398         0              0.67  \n",
              "399         1              0.95  \n",
              "\n",
              "[400 rows x 9 columns]"
            ],
            "text/html": [
              "\n",
              "  <div id=\"df-3bf6c253-91fb-4017-b6c6-2364b0107f42\">\n",
              "    <div class=\"colab-df-container\">\n",
              "      <div>\n",
              "<style scoped>\n",
              "    .dataframe tbody tr th:only-of-type {\n",
              "        vertical-align: middle;\n",
              "    }\n",
              "\n",
              "    .dataframe tbody tr th {\n",
              "        vertical-align: top;\n",
              "    }\n",
              "\n",
              "    .dataframe thead th {\n",
              "        text-align: right;\n",
              "    }\n",
              "</style>\n",
              "<table border=\"1\" class=\"dataframe\">\n",
              "  <thead>\n",
              "    <tr style=\"text-align: right;\">\n",
              "      <th></th>\n",
              "      <th>Serial No.</th>\n",
              "      <th>GRE Score</th>\n",
              "      <th>TOEFL Score</th>\n",
              "      <th>University Rating</th>\n",
              "      <th>SOP</th>\n",
              "      <th>LOR</th>\n",
              "      <th>CGPA</th>\n",
              "      <th>Research</th>\n",
              "      <th>Chance of Admit</th>\n",
              "    </tr>\n",
              "  </thead>\n",
              "  <tbody>\n",
              "    <tr>\n",
              "      <th>0</th>\n",
              "      <td>1</td>\n",
              "      <td>337</td>\n",
              "      <td>118</td>\n",
              "      <td>4</td>\n",
              "      <td>4.5</td>\n",
              "      <td>4.5</td>\n",
              "      <td>9.65</td>\n",
              "      <td>1</td>\n",
              "      <td>0.92</td>\n",
              "    </tr>\n",
              "    <tr>\n",
              "      <th>1</th>\n",
              "      <td>2</td>\n",
              "      <td>324</td>\n",
              "      <td>107</td>\n",
              "      <td>4</td>\n",
              "      <td>4.0</td>\n",
              "      <td>4.5</td>\n",
              "      <td>8.87</td>\n",
              "      <td>1</td>\n",
              "      <td>0.76</td>\n",
              "    </tr>\n",
              "    <tr>\n",
              "      <th>2</th>\n",
              "      <td>3</td>\n",
              "      <td>316</td>\n",
              "      <td>104</td>\n",
              "      <td>3</td>\n",
              "      <td>3.0</td>\n",
              "      <td>3.5</td>\n",
              "      <td>8.00</td>\n",
              "      <td>1</td>\n",
              "      <td>0.72</td>\n",
              "    </tr>\n",
              "    <tr>\n",
              "      <th>3</th>\n",
              "      <td>4</td>\n",
              "      <td>322</td>\n",
              "      <td>110</td>\n",
              "      <td>3</td>\n",
              "      <td>3.5</td>\n",
              "      <td>2.5</td>\n",
              "      <td>8.67</td>\n",
              "      <td>1</td>\n",
              "      <td>0.80</td>\n",
              "    </tr>\n",
              "    <tr>\n",
              "      <th>4</th>\n",
              "      <td>5</td>\n",
              "      <td>314</td>\n",
              "      <td>103</td>\n",
              "      <td>2</td>\n",
              "      <td>2.0</td>\n",
              "      <td>3.0</td>\n",
              "      <td>8.21</td>\n",
              "      <td>0</td>\n",
              "      <td>0.65</td>\n",
              "    </tr>\n",
              "    <tr>\n",
              "      <th>...</th>\n",
              "      <td>...</td>\n",
              "      <td>...</td>\n",
              "      <td>...</td>\n",
              "      <td>...</td>\n",
              "      <td>...</td>\n",
              "      <td>...</td>\n",
              "      <td>...</td>\n",
              "      <td>...</td>\n",
              "      <td>...</td>\n",
              "    </tr>\n",
              "    <tr>\n",
              "      <th>395</th>\n",
              "      <td>396</td>\n",
              "      <td>324</td>\n",
              "      <td>110</td>\n",
              "      <td>3</td>\n",
              "      <td>3.5</td>\n",
              "      <td>3.5</td>\n",
              "      <td>9.04</td>\n",
              "      <td>1</td>\n",
              "      <td>0.82</td>\n",
              "    </tr>\n",
              "    <tr>\n",
              "      <th>396</th>\n",
              "      <td>397</td>\n",
              "      <td>325</td>\n",
              "      <td>107</td>\n",
              "      <td>3</td>\n",
              "      <td>3.0</td>\n",
              "      <td>3.5</td>\n",
              "      <td>9.11</td>\n",
              "      <td>1</td>\n",
              "      <td>0.84</td>\n",
              "    </tr>\n",
              "    <tr>\n",
              "      <th>397</th>\n",
              "      <td>398</td>\n",
              "      <td>330</td>\n",
              "      <td>116</td>\n",
              "      <td>4</td>\n",
              "      <td>5.0</td>\n",
              "      <td>4.5</td>\n",
              "      <td>9.45</td>\n",
              "      <td>1</td>\n",
              "      <td>0.91</td>\n",
              "    </tr>\n",
              "    <tr>\n",
              "      <th>398</th>\n",
              "      <td>399</td>\n",
              "      <td>312</td>\n",
              "      <td>103</td>\n",
              "      <td>3</td>\n",
              "      <td>3.5</td>\n",
              "      <td>4.0</td>\n",
              "      <td>8.78</td>\n",
              "      <td>0</td>\n",
              "      <td>0.67</td>\n",
              "    </tr>\n",
              "    <tr>\n",
              "      <th>399</th>\n",
              "      <td>400</td>\n",
              "      <td>333</td>\n",
              "      <td>117</td>\n",
              "      <td>4</td>\n",
              "      <td>5.0</td>\n",
              "      <td>4.0</td>\n",
              "      <td>9.66</td>\n",
              "      <td>1</td>\n",
              "      <td>0.95</td>\n",
              "    </tr>\n",
              "  </tbody>\n",
              "</table>\n",
              "<p>400 rows × 9 columns</p>\n",
              "</div>\n",
              "      <button class=\"colab-df-convert\" onclick=\"convertToInteractive('df-3bf6c253-91fb-4017-b6c6-2364b0107f42')\"\n",
              "              title=\"Convert this dataframe to an interactive table.\"\n",
              "              style=\"display:none;\">\n",
              "        \n",
              "  <svg xmlns=\"http://www.w3.org/2000/svg\" height=\"24px\"viewBox=\"0 0 24 24\"\n",
              "       width=\"24px\">\n",
              "    <path d=\"M0 0h24v24H0V0z\" fill=\"none\"/>\n",
              "    <path d=\"M18.56 5.44l.94 2.06.94-2.06 2.06-.94-2.06-.94-.94-2.06-.94 2.06-2.06.94zm-11 1L8.5 8.5l.94-2.06 2.06-.94-2.06-.94L8.5 2.5l-.94 2.06-2.06.94zm10 10l.94 2.06.94-2.06 2.06-.94-2.06-.94-.94-2.06-.94 2.06-2.06.94z\"/><path d=\"M17.41 7.96l-1.37-1.37c-.4-.4-.92-.59-1.43-.59-.52 0-1.04.2-1.43.59L10.3 9.45l-7.72 7.72c-.78.78-.78 2.05 0 2.83L4 21.41c.39.39.9.59 1.41.59.51 0 1.02-.2 1.41-.59l7.78-7.78 2.81-2.81c.8-.78.8-2.07 0-2.86zM5.41 20L4 18.59l7.72-7.72 1.47 1.35L5.41 20z\"/>\n",
              "  </svg>\n",
              "      </button>\n",
              "      \n",
              "  <style>\n",
              "    .colab-df-container {\n",
              "      display:flex;\n",
              "      flex-wrap:wrap;\n",
              "      gap: 12px;\n",
              "    }\n",
              "\n",
              "    .colab-df-convert {\n",
              "      background-color: #E8F0FE;\n",
              "      border: none;\n",
              "      border-radius: 50%;\n",
              "      cursor: pointer;\n",
              "      display: none;\n",
              "      fill: #1967D2;\n",
              "      height: 32px;\n",
              "      padding: 0 0 0 0;\n",
              "      width: 32px;\n",
              "    }\n",
              "\n",
              "    .colab-df-convert:hover {\n",
              "      background-color: #E2EBFA;\n",
              "      box-shadow: 0px 1px 2px rgba(60, 64, 67, 0.3), 0px 1px 3px 1px rgba(60, 64, 67, 0.15);\n",
              "      fill: #174EA6;\n",
              "    }\n",
              "\n",
              "    [theme=dark] .colab-df-convert {\n",
              "      background-color: #3B4455;\n",
              "      fill: #D2E3FC;\n",
              "    }\n",
              "\n",
              "    [theme=dark] .colab-df-convert:hover {\n",
              "      background-color: #434B5C;\n",
              "      box-shadow: 0px 1px 3px 1px rgba(0, 0, 0, 0.15);\n",
              "      filter: drop-shadow(0px 1px 2px rgba(0, 0, 0, 0.3));\n",
              "      fill: #FFFFFF;\n",
              "    }\n",
              "  </style>\n",
              "\n",
              "      <script>\n",
              "        const buttonEl =\n",
              "          document.querySelector('#df-3bf6c253-91fb-4017-b6c6-2364b0107f42 button.colab-df-convert');\n",
              "        buttonEl.style.display =\n",
              "          google.colab.kernel.accessAllowed ? 'block' : 'none';\n",
              "\n",
              "        async function convertToInteractive(key) {\n",
              "          const element = document.querySelector('#df-3bf6c253-91fb-4017-b6c6-2364b0107f42');\n",
              "          const dataTable =\n",
              "            await google.colab.kernel.invokeFunction('convertToInteractive',\n",
              "                                                     [key], {});\n",
              "          if (!dataTable) return;\n",
              "\n",
              "          const docLinkHtml = 'Like what you see? Visit the ' +\n",
              "            '<a target=\"_blank\" href=https://colab.research.google.com/notebooks/data_table.ipynb>data table notebook</a>'\n",
              "            + ' to learn more about interactive tables.';\n",
              "          element.innerHTML = '';\n",
              "          dataTable['output_type'] = 'display_data';\n",
              "          await google.colab.output.renderOutput(dataTable, element);\n",
              "          const docLink = document.createElement('div');\n",
              "          docLink.innerHTML = docLinkHtml;\n",
              "          element.appendChild(docLink);\n",
              "        }\n",
              "      </script>\n",
              "    </div>\n",
              "  </div>\n",
              "  "
            ]
          },
          "metadata": {},
          "execution_count": 3
        }
      ],
      "source": [
        "df=pd.read_csv('/content/adm_data.csv')\n",
        "df"
      ]
    },
    {
      "cell_type": "code",
      "execution_count": 4,
      "id": "344a0ef1",
      "metadata": {
        "execution": {
          "iopub.execute_input": "2022-12-16T18:04:15.066492Z",
          "iopub.status.busy": "2022-12-16T18:04:15.065177Z",
          "iopub.status.idle": "2022-12-16T18:04:15.073801Z",
          "shell.execute_reply": "2022-12-16T18:04:15.072835Z"
        },
        "papermill": {
          "duration": 0.018195,
          "end_time": "2022-12-16T18:04:15.076288",
          "exception": false,
          "start_time": "2022-12-16T18:04:15.058093",
          "status": "completed"
        },
        "tags": [],
        "colab": {
          "base_uri": "https://localhost:8080/"
        },
        "id": "344a0ef1",
        "outputId": "4eff2a29-679e-4456-efc4-736b44f9a13f"
      },
      "outputs": [
        {
          "output_type": "execute_result",
          "data": {
            "text/plain": [
              "Index(['Serial No.', 'GRE Score', 'TOEFL Score', 'University Rating', 'SOP',\n",
              "       'LOR ', 'CGPA', 'Research', 'Chance of Admit '],\n",
              "      dtype='object')"
            ]
          },
          "metadata": {},
          "execution_count": 4
        }
      ],
      "source": [
        "df.columns"
      ]
    },
    {
      "cell_type": "markdown",
      "id": "62b45c97",
      "metadata": {
        "papermill": {
          "duration": 0.004499,
          "end_time": "2022-12-16T18:04:15.085873",
          "exception": false,
          "start_time": "2022-12-16T18:04:15.081374",
          "status": "completed"
        },
        "tags": [],
        "id": "62b45c97"
      },
      "source": [
        "# Train Test Split"
      ]
    },
    {
      "cell_type": "code",
      "execution_count": 5,
      "id": "18ba7e89",
      "metadata": {
        "execution": {
          "iopub.execute_input": "2022-12-16T18:04:15.102604Z",
          "iopub.status.busy": "2022-12-16T18:04:15.101880Z",
          "iopub.status.idle": "2022-12-16T18:04:15.115016Z",
          "shell.execute_reply": "2022-12-16T18:04:15.114030Z"
        },
        "papermill": {
          "duration": 0.025013,
          "end_time": "2022-12-16T18:04:15.117418",
          "exception": false,
          "start_time": "2022-12-16T18:04:15.092405",
          "status": "completed"
        },
        "tags": [],
        "id": "18ba7e89"
      },
      "outputs": [],
      "source": [
        "X=df.drop(['Serial No.','Chance of Admit '],axis=1)\n",
        "y=df['Chance of Admit ']"
      ]
    },
    {
      "cell_type": "code",
      "execution_count": 6,
      "id": "408f21bd",
      "metadata": {
        "execution": {
          "iopub.execute_input": "2022-12-16T18:04:15.130557Z",
          "iopub.status.busy": "2022-12-16T18:04:15.129416Z",
          "iopub.status.idle": "2022-12-16T18:04:15.137148Z",
          "shell.execute_reply": "2022-12-16T18:04:15.136212Z"
        },
        "papermill": {
          "duration": 0.017127,
          "end_time": "2022-12-16T18:04:15.139510",
          "exception": false,
          "start_time": "2022-12-16T18:04:15.122383",
          "status": "completed"
        },
        "tags": [],
        "id": "408f21bd"
      },
      "outputs": [],
      "source": [
        "X_train,X_test,y_train,y_test=train_test_split(X,y,test_size=0.2,random_state=42)"
      ]
    },
    {
      "cell_type": "markdown",
      "id": "9512aeb5",
      "metadata": {
        "papermill": {
          "duration": 0.004711,
          "end_time": "2022-12-16T18:04:15.149425",
          "exception": false,
          "start_time": "2022-12-16T18:04:15.144714",
          "status": "completed"
        },
        "tags": [],
        "id": "9512aeb5"
      },
      "source": [
        "# Model fitting"
      ]
    },
    {
      "cell_type": "code",
      "execution_count": 7,
      "id": "c203ff5c",
      "metadata": {
        "execution": {
          "iopub.execute_input": "2022-12-16T18:04:15.161925Z",
          "iopub.status.busy": "2022-12-16T18:04:15.161147Z",
          "iopub.status.idle": "2022-12-16T18:04:15.401103Z",
          "shell.execute_reply": "2022-12-16T18:04:15.399631Z"
        },
        "papermill": {
          "duration": 0.249504,
          "end_time": "2022-12-16T18:04:15.404213",
          "exception": false,
          "start_time": "2022-12-16T18:04:15.154709",
          "status": "completed"
        },
        "tags": [],
        "id": "c203ff5c"
      },
      "outputs": [],
      "source": [
        "from sklearn.linear_model import LinearRegression\n",
        "\n",
        "from sklearn.svm import SVR\n",
        "\n",
        "from sklearn.ensemble import RandomForestRegressor,GradientBoostingRegressor,AdaBoostRegressor\n"
      ]
    },
    {
      "cell_type": "code",
      "execution_count": 8,
      "id": "5b4763fd",
      "metadata": {
        "execution": {
          "iopub.execute_input": "2022-12-16T18:04:15.415707Z",
          "iopub.status.busy": "2022-12-16T18:04:15.415275Z",
          "iopub.status.idle": "2022-12-16T18:04:15.423380Z",
          "shell.execute_reply": "2022-12-16T18:04:15.422029Z"
        },
        "papermill": {
          "duration": 0.017432,
          "end_time": "2022-12-16T18:04:15.426274",
          "exception": false,
          "start_time": "2022-12-16T18:04:15.408842",
          "status": "completed"
        },
        "tags": [],
        "id": "5b4763fd"
      },
      "outputs": [],
      "source": [
        "reg_1=LinearRegression(n_jobs=-1)\n",
        "\n",
        "reg_2=SVR()\n",
        "\n",
        "reg_3=RandomForestRegressor(n_jobs=-1)\n",
        "reg_4=GradientBoostingRegressor()\n",
        "reg_5=AdaBoostRegressor()\n",
        "\n",
        "\n",
        "reg_list=[reg_1,reg_2,reg_3,reg_4,reg_5]"
      ]
    },
    {
      "cell_type": "code",
      "execution_count": 9,
      "id": "15f6e25c",
      "metadata": {
        "execution": {
          "iopub.execute_input": "2022-12-16T18:04:15.437809Z",
          "iopub.status.busy": "2022-12-16T18:04:15.437380Z",
          "iopub.status.idle": "2022-12-16T18:04:15.997419Z",
          "shell.execute_reply": "2022-12-16T18:04:15.995027Z"
        },
        "papermill": {
          "duration": 0.569232,
          "end_time": "2022-12-16T18:04:16.000511",
          "exception": false,
          "start_time": "2022-12-16T18:04:15.431279",
          "status": "completed"
        },
        "tags": [],
        "colab": {
          "base_uri": "https://localhost:8080/"
        },
        "id": "15f6e25c",
        "outputId": "0e35cae5-0d0a-426f-f7a1-a6c07ebf941a"
      },
      "outputs": [
        {
          "output_type": "stream",
          "name": "stdout",
          "text": [
            "--------------------------------------------------\n",
            "LinearRegression\n",
            "R2 Score : 0.8212082591486993\n",
            "Mean Absolute Error Score : 0.047956733620911976\n",
            "Mean Sqaured Error Score : 0.004617003377285005\n",
            "--------------------------------------------------\n",
            "SVR\n",
            "R2 Score : 0.6348008667533296\n",
            "Mean Absolute Error Score : 0.07694861402539703\n",
            "Mean Sqaured Error Score : 0.009430668461267281\n",
            "--------------------------------------------------\n",
            "RandomForestRegressor\n",
            "R2 Score : 0.8036893389282352\n",
            "Mean Absolute Error Score : 0.05044500000000006\n",
            "Mean Sqaured Error Score : 0.005069400750000003\n",
            "--------------------------------------------------\n",
            "GradientBoostingRegressor\n",
            "R2 Score : 0.796782916903452\n",
            "Mean Absolute Error Score : 0.050025936616922284\n",
            "Mean Sqaured Error Score : 0.005247747767941396\n",
            "--------------------------------------------------\n",
            "AdaBoostRegressor\n",
            "R2 Score : 0.7986489360072891\n",
            "Mean Absolute Error Score : 0.05646341492794331\n",
            "Mean Sqaured Error Score : 0.005199560886022395\n"
          ]
        }
      ],
      "source": [
        "score_dict={}\n",
        "\n",
        "for reg in reg_list:\n",
        "    \n",
        "    reg_name = reg.__class__.__name__\n",
        "    \n",
        "    reg.fit(X_train,y_train)\n",
        "    \n",
        "    pred=reg.predict(X_test)\n",
        "    \n",
        "    print(\"-\"*50)\n",
        "    \n",
        "    print(reg_name)\n",
        "    \n",
        "    print(f\"R2 Score : {r2_score(y_test,pred)}\")\n",
        "    print(f\"Mean Absolute Error Score : {mean_absolute_error(y_test,pred)}\")\n",
        "    print(f\"Mean Sqaured Error Score : {mean_squared_error(y_test,pred)}\")\n",
        "    \n",
        "    \n",
        "    score_dict[reg_name]={\n",
        "        \"R2 Score\":r2_score(y_test,pred),\n",
        "        \"Mean Absolute Error Score\":mean_absolute_error(y_test,pred),\n",
        "        \"Mean Squared Error Score\":mean_squared_error(y_test,pred)\n",
        "    }"
      ]
    },
    {
      "cell_type": "code",
      "execution_count": 10,
      "id": "c09b6226",
      "metadata": {
        "execution": {
          "iopub.execute_input": "2022-12-16T18:04:16.014459Z",
          "iopub.status.busy": "2022-12-16T18:04:16.013695Z",
          "iopub.status.idle": "2022-12-16T18:04:16.031480Z",
          "shell.execute_reply": "2022-12-16T18:04:16.030113Z"
        },
        "papermill": {
          "duration": 0.027957,
          "end_time": "2022-12-16T18:04:16.034384",
          "exception": false,
          "start_time": "2022-12-16T18:04:16.006427",
          "status": "completed"
        },
        "tags": [],
        "colab": {
          "base_uri": "https://localhost:8080/",
          "height": 206
        },
        "id": "c09b6226",
        "outputId": "955ef946-bc43-4abf-e2a1-86eee4348c7b"
      },
      "outputs": [
        {
          "output_type": "execute_result",
          "data": {
            "text/plain": [
              "                           R2 Score  Mean Absolute Error Score  \\\n",
              "LinearRegression           0.821208                   0.047957   \n",
              "RandomForestRegressor      0.803689                   0.050445   \n",
              "AdaBoostRegressor          0.798649                   0.056463   \n",
              "GradientBoostingRegressor  0.796783                   0.050026   \n",
              "SVR                        0.634801                   0.076949   \n",
              "\n",
              "                           Mean Squared Error Score  \n",
              "LinearRegression                           0.004617  \n",
              "RandomForestRegressor                      0.005069  \n",
              "AdaBoostRegressor                          0.005200  \n",
              "GradientBoostingRegressor                  0.005248  \n",
              "SVR                                        0.009431  "
            ],
            "text/html": [
              "\n",
              "  <div id=\"df-1aba5e62-0e51-492e-a701-15362fe3e0ab\">\n",
              "    <div class=\"colab-df-container\">\n",
              "      <div>\n",
              "<style scoped>\n",
              "    .dataframe tbody tr th:only-of-type {\n",
              "        vertical-align: middle;\n",
              "    }\n",
              "\n",
              "    .dataframe tbody tr th {\n",
              "        vertical-align: top;\n",
              "    }\n",
              "\n",
              "    .dataframe thead th {\n",
              "        text-align: right;\n",
              "    }\n",
              "</style>\n",
              "<table border=\"1\" class=\"dataframe\">\n",
              "  <thead>\n",
              "    <tr style=\"text-align: right;\">\n",
              "      <th></th>\n",
              "      <th>R2 Score</th>\n",
              "      <th>Mean Absolute Error Score</th>\n",
              "      <th>Mean Squared Error Score</th>\n",
              "    </tr>\n",
              "  </thead>\n",
              "  <tbody>\n",
              "    <tr>\n",
              "      <th>LinearRegression</th>\n",
              "      <td>0.821208</td>\n",
              "      <td>0.047957</td>\n",
              "      <td>0.004617</td>\n",
              "    </tr>\n",
              "    <tr>\n",
              "      <th>RandomForestRegressor</th>\n",
              "      <td>0.803689</td>\n",
              "      <td>0.050445</td>\n",
              "      <td>0.005069</td>\n",
              "    </tr>\n",
              "    <tr>\n",
              "      <th>AdaBoostRegressor</th>\n",
              "      <td>0.798649</td>\n",
              "      <td>0.056463</td>\n",
              "      <td>0.005200</td>\n",
              "    </tr>\n",
              "    <tr>\n",
              "      <th>GradientBoostingRegressor</th>\n",
              "      <td>0.796783</td>\n",
              "      <td>0.050026</td>\n",
              "      <td>0.005248</td>\n",
              "    </tr>\n",
              "    <tr>\n",
              "      <th>SVR</th>\n",
              "      <td>0.634801</td>\n",
              "      <td>0.076949</td>\n",
              "      <td>0.009431</td>\n",
              "    </tr>\n",
              "  </tbody>\n",
              "</table>\n",
              "</div>\n",
              "      <button class=\"colab-df-convert\" onclick=\"convertToInteractive('df-1aba5e62-0e51-492e-a701-15362fe3e0ab')\"\n",
              "              title=\"Convert this dataframe to an interactive table.\"\n",
              "              style=\"display:none;\">\n",
              "        \n",
              "  <svg xmlns=\"http://www.w3.org/2000/svg\" height=\"24px\"viewBox=\"0 0 24 24\"\n",
              "       width=\"24px\">\n",
              "    <path d=\"M0 0h24v24H0V0z\" fill=\"none\"/>\n",
              "    <path d=\"M18.56 5.44l.94 2.06.94-2.06 2.06-.94-2.06-.94-.94-2.06-.94 2.06-2.06.94zm-11 1L8.5 8.5l.94-2.06 2.06-.94-2.06-.94L8.5 2.5l-.94 2.06-2.06.94zm10 10l.94 2.06.94-2.06 2.06-.94-2.06-.94-.94-2.06-.94 2.06-2.06.94z\"/><path d=\"M17.41 7.96l-1.37-1.37c-.4-.4-.92-.59-1.43-.59-.52 0-1.04.2-1.43.59L10.3 9.45l-7.72 7.72c-.78.78-.78 2.05 0 2.83L4 21.41c.39.39.9.59 1.41.59.51 0 1.02-.2 1.41-.59l7.78-7.78 2.81-2.81c.8-.78.8-2.07 0-2.86zM5.41 20L4 18.59l7.72-7.72 1.47 1.35L5.41 20z\"/>\n",
              "  </svg>\n",
              "      </button>\n",
              "      \n",
              "  <style>\n",
              "    .colab-df-container {\n",
              "      display:flex;\n",
              "      flex-wrap:wrap;\n",
              "      gap: 12px;\n",
              "    }\n",
              "\n",
              "    .colab-df-convert {\n",
              "      background-color: #E8F0FE;\n",
              "      border: none;\n",
              "      border-radius: 50%;\n",
              "      cursor: pointer;\n",
              "      display: none;\n",
              "      fill: #1967D2;\n",
              "      height: 32px;\n",
              "      padding: 0 0 0 0;\n",
              "      width: 32px;\n",
              "    }\n",
              "\n",
              "    .colab-df-convert:hover {\n",
              "      background-color: #E2EBFA;\n",
              "      box-shadow: 0px 1px 2px rgba(60, 64, 67, 0.3), 0px 1px 3px 1px rgba(60, 64, 67, 0.15);\n",
              "      fill: #174EA6;\n",
              "    }\n",
              "\n",
              "    [theme=dark] .colab-df-convert {\n",
              "      background-color: #3B4455;\n",
              "      fill: #D2E3FC;\n",
              "    }\n",
              "\n",
              "    [theme=dark] .colab-df-convert:hover {\n",
              "      background-color: #434B5C;\n",
              "      box-shadow: 0px 1px 3px 1px rgba(0, 0, 0, 0.15);\n",
              "      filter: drop-shadow(0px 1px 2px rgba(0, 0, 0, 0.3));\n",
              "      fill: #FFFFFF;\n",
              "    }\n",
              "  </style>\n",
              "\n",
              "      <script>\n",
              "        const buttonEl =\n",
              "          document.querySelector('#df-1aba5e62-0e51-492e-a701-15362fe3e0ab button.colab-df-convert');\n",
              "        buttonEl.style.display =\n",
              "          google.colab.kernel.accessAllowed ? 'block' : 'none';\n",
              "\n",
              "        async function convertToInteractive(key) {\n",
              "          const element = document.querySelector('#df-1aba5e62-0e51-492e-a701-15362fe3e0ab');\n",
              "          const dataTable =\n",
              "            await google.colab.kernel.invokeFunction('convertToInteractive',\n",
              "                                                     [key], {});\n",
              "          if (!dataTable) return;\n",
              "\n",
              "          const docLinkHtml = 'Like what you see? Visit the ' +\n",
              "            '<a target=\"_blank\" href=https://colab.research.google.com/notebooks/data_table.ipynb>data table notebook</a>'\n",
              "            + ' to learn more about interactive tables.';\n",
              "          element.innerHTML = '';\n",
              "          dataTable['output_type'] = 'display_data';\n",
              "          await google.colab.output.renderOutput(dataTable, element);\n",
              "          const docLink = document.createElement('div');\n",
              "          docLink.innerHTML = docLinkHtml;\n",
              "          element.appendChild(docLink);\n",
              "        }\n",
              "      </script>\n",
              "    </div>\n",
              "  </div>\n",
              "  "
            ]
          },
          "metadata": {},
          "execution_count": 10
        }
      ],
      "source": [
        "score_pd=pd.DataFrame(score_dict).transpose().sort_values(\"R2 Score\",ascending=False)\n",
        "score_pd"
      ]
    }
  ],
  "metadata": {
    "kernelspec": {
      "display_name": "Python 3",
      "language": "python",
      "name": "python3"
    },
    "language_info": {
      "codemirror_mode": {
        "name": "ipython",
        "version": 3
      },
      "file_extension": ".py",
      "mimetype": "text/x-python",
      "name": "python",
      "nbconvert_exporter": "python",
      "pygments_lexer": "ipython3",
      "version": "3.7.12"
    },
    "papermill": {
      "default_parameters": {},
      "duration": 14.174441,
      "end_time": "2022-12-16T18:04:17.064802",
      "environment_variables": {},
      "exception": null,
      "input_path": "__notebook__.ipynb",
      "output_path": "__notebook__.ipynb",
      "parameters": {},
      "start_time": "2022-12-16T18:04:02.890361",
      "version": "2.3.4"
    },
    "colab": {
      "provenance": [],
      "include_colab_link": true
    }
  },
  "nbformat": 4,
  "nbformat_minor": 5
}